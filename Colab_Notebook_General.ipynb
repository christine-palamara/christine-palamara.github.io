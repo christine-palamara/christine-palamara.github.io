{
  "nbformat": 4,
  "nbformat_minor": 0,
  "metadata": {
    "colab": {
      "provenance": [],
      "authorship_tag": "ABX9TyNktk/09UYtRHc97eSd+SHW",
      "include_colab_link": true
    },
    "kernelspec": {
      "name": "python3",
      "display_name": "Python 3"
    },
    "language_info": {
      "name": "python"
    }
  },
  "cells": [
    {
      "cell_type": "markdown",
      "metadata": {
        "id": "view-in-github",
        "colab_type": "text"
      },
      "source": [
        "<a href=\"https://colab.research.google.com/github/christine-palamara/christine-palamara.github.io/blob/main/Colab_Notebook_General.ipynb\" target=\"_parent\"><img src=\"https://colab.research.google.com/assets/colab-badge.svg\" alt=\"Open In Colab\"/></a>"
      ]
    },
    {
      "cell_type": "code",
      "execution_count": 3,
      "metadata": {
        "id": "dvIQMRWBJo6K",
        "outputId": "ad10fc4c-c668-42a8-9f09-90840e3015cc",
        "colab": {
          "base_uri": "https://localhost:8080/"
        }
      },
      "outputs": [
        {
          "output_type": "stream",
          "name": "stdout",
          "text": [
            "<class 'float'>\n",
            "14925.37313432836\n",
            "179104\n"
          ]
        }
      ],
      "source": [
        "#Gross pay = net pay / (1 - tax rate)\n",
        "\n",
        "net_pay = 10000\n",
        "tax_rate = .33\n",
        "gross_pay = net_pay / (1 - tax_rate)\n",
        "print(gross_pay)\n",
        "annual_salary = gross_pay * 12\n",
        "print(round(annual_salary))\n"
      ]
    }
  ]
}
